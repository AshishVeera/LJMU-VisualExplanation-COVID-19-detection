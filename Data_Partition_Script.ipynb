{
  "nbformat": 4,
  "nbformat_minor": 0,
  "metadata": {
    "colab": {
      "name": "Data_Partition_Script.ipynb",
      "provenance": [],
      "collapsed_sections": [],
      "mount_file_id": "1Uik7YXT8TcwlujEoBuldX3qoKdyT_VQY",
      "authorship_tag": "ABX9TyM9GL+cTcuX/Arpptx60Xdq"
    },
    "kernelspec": {
      "name": "python3",
      "display_name": "Python 3"
    },
    "accelerator": "GPU"
  },
  "cells": [
    {
      "cell_type": "markdown",
      "metadata": {
        "id": "CEFHJGEzMKwf"
      },
      "source": [
        "Data Partition: Train-test split in 80:20 ratio"
      ]
    },
    {
      "cell_type": "code",
      "metadata": {
        "colab": {
          "base_uri": "https://localhost:8080/"
        },
        "id": "yi-mAOs7CPRq",
        "outputId": "f9fa511b-0b05-42ad-d70b-6f297eebbb78"
      },
      "source": [
        "import os\n",
        "import numpy as np\n",
        "import shutil\n",
        "\n",
        "# # Creating Train / Val / Test folders (One time use)\n",
        "root_dir = '/content/drive/MyDrive/data'\n",
        "posCls = '/covid'\n",
        "negCls = '/non'\n",
        "\n",
        "os.makedirs(root_dir +'/train' + posCls)\n",
        "os.makedirs(root_dir +'/train' + negCls)\n",
        "os.makedirs(root_dir +'/test' + posCls)\n",
        "os.makedirs(root_dir +'/test' + negCls)\n",
        "\n",
        "# Creating partitions of the data after shuffeling for covid class\n",
        "currentCls = posCls\n",
        "src = \"/content/drive/MyDrive/train\"+currentCls # Folder to copy images from\n",
        "\n",
        "allFileNames = os.listdir(src)\n",
        "np.random.shuffle(allFileNames)\n",
        "train_FileNames, test_FileNames = np.split(np.array(allFileNames),\n",
        "                                                          [int(len(allFileNames)*0.8)])\n",
        "\n",
        "\n",
        "train_FileNames = [src+'/'+ name for name in train_FileNames.tolist()]\n",
        "test_FileNames = [src+'/' + name for name in test_FileNames.tolist()]\n",
        "\n",
        "print('Total images: ', len(allFileNames))\n",
        "print('Training: ', len(train_FileNames))\n",
        "print('Testing: ', len(test_FileNames))\n",
        "\n",
        "# Copy-pasting images\n",
        "for name in train_FileNames:\n",
        "    shutil.copy(name, \"/content/drive/MyDrive/data/train\"+currentCls)\n",
        "\n",
        "for name in test_FileNames:\n",
        "    shutil.copy(name, \"/content/drive/MyDrive/data/test\"+currentCls)\n",
        "\n",
        "\n",
        "\n",
        "\n"
      ],
      "execution_count": null,
      "outputs": [
        {
          "output_type": "stream",
          "text": [
            "Total images:  420\n",
            "Training:  336\n",
            "Testing:  84\n"
          ],
          "name": "stdout"
        }
      ]
    },
    {
      "cell_type": "code",
      "metadata": {
        "colab": {
          "base_uri": "https://localhost:8080/"
        },
        "id": "2rISFSHFIkF6",
        "outputId": "3e4119a1-1e87-432e-de20-f9b12d2ea6c3"
      },
      "source": [
        "# Creating partitions of the data after shuffling for non-covid class\n",
        "currentCls = negCls\n",
        "src = \"/content/drive/MyDrive/train\"+currentCls # Folder to copy images from\n",
        "\n",
        "allFileNames = os.listdir(src)\n",
        "np.random.shuffle(allFileNames)\n",
        "train_FileNames, test_FileNames = np.split(np.array(allFileNames),\n",
        "                                                          [int(len(allFileNames)*0.8)])\n",
        "\n",
        "\n",
        "train_FileNames = [src+'/'+ name for name in train_FileNames.tolist()]\n",
        "test_FileNames = [src+'/' + name for name in test_FileNames.tolist()]\n",
        "\n",
        "print('Total images: ', len(allFileNames))\n",
        "print('Training: ', len(train_FileNames))\n",
        "print('Testing: ', len(test_FileNames))\n",
        "\n",
        "# Copy-pasting images\n",
        "for name in train_FileNames:\n",
        "    shutil.copy(name, \"/content/drive/MyDrive/data/train\"+currentCls)\n",
        "\n",
        "for name in test_FileNames:\n",
        "    shutil.copy(name, \"/content/drive/MyDrive/data/test\"+currentCls)"
      ],
      "execution_count": null,
      "outputs": [
        {
          "output_type": "stream",
          "text": [
            "Total images:  580\n",
            "Training:  464\n",
            "Testing:  116\n"
          ],
          "name": "stdout"
        }
      ]
    },
    {
      "cell_type": "code",
      "metadata": {
        "id": "dCnRCmgu7TEy"
      },
      "source": [
        ""
      ],
      "execution_count": null,
      "outputs": []
    }
  ]
}